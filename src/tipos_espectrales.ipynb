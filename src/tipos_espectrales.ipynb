{
  "cells": [
    {
      "cell_type": "markdown",
      "metadata": {
        "id": "SU-tSMGqyp0a"
      },
      "source": [
        "# **Clasificación espectral**"
      ]
    },
    {
      "cell_type": "markdown",
      "metadata": {
        "id": "WINYfU5v5iZt"
      },
      "source": [
        "### **Construcción del diagrama HR**"
      ]
    },
    {
      "cell_type": "markdown",
      "metadata": {
        "id": "o33dj0Ih_aON"
      },
      "source": [
        "Importar librerías necesarias y cargar csv.\n",
        "\n"
      ]
    },
    {
      "cell_type": "code",
      "execution_count": null,
      "metadata": {},
      "outputs": [],
      "source": [
        "%%capture\n",
        "!pip install pandas\n",
        "!pip install numpy"
      ]
    },
    {
      "cell_type": "markdown",
      "metadata": {},
      "source": []
    },
    {
      "cell_type": "code",
      "execution_count": 1,
      "metadata": {},
      "outputs": [],
      "source": [
        "%%capture\n",
        "!pip install matplotlib\n",
        "!pip install seaborn"
      ]
    },
    {
      "cell_type": "code",
      "execution_count": 2,
      "metadata": {
        "id": "up9xf11_k_iS"
      },
      "outputs": [],
      "source": [
        "import pandas as pd\n",
        "import numpy as np\n",
        "import matplotlib.pyplot as plt\n",
        "import seaborn as sns"
      ]
    },
    {
      "cell_type": "code",
      "execution_count": 3,
      "metadata": {
        "id": "29WHRThir_G-"
      },
      "outputs": [],
      "source": [
        "df = pd.read_csv('../data/Star99999_raw.csv')"
      ]
    },
    {
      "cell_type": "markdown",
      "metadata": {
        "id": "JEm735sb_gGv"
      },
      "source": [
        "Ver las columnas y una muestra de su contenido."
      ]
    },
    {
      "cell_type": "code",
      "execution_count": 4,
      "metadata": {
        "colab": {
          "base_uri": "https://localhost:8080/",
          "height": 206
        },
        "id": "otoxt05SsBrb",
        "outputId": "40e81432-56b4-45c1-c131-55dd8926ce36"
      },
      "outputs": [
        {
          "data": {
            "text/html": [
              "<div>\n",
              "<style scoped>\n",
              "    .dataframe tbody tr th:only-of-type {\n",
              "        vertical-align: middle;\n",
              "    }\n",
              "\n",
              "    .dataframe tbody tr th {\n",
              "        vertical-align: top;\n",
              "    }\n",
              "\n",
              "    .dataframe thead th {\n",
              "        text-align: right;\n",
              "    }\n",
              "</style>\n",
              "<table border=\"1\" class=\"dataframe\">\n",
              "  <thead>\n",
              "    <tr style=\"text-align: right;\">\n",
              "      <th></th>\n",
              "      <th>Unnamed: 0</th>\n",
              "      <th>Vmag</th>\n",
              "      <th>Plx</th>\n",
              "      <th>e_Plx</th>\n",
              "      <th>B-V</th>\n",
              "      <th>SpType</th>\n",
              "    </tr>\n",
              "  </thead>\n",
              "  <tbody>\n",
              "    <tr>\n",
              "      <th>0</th>\n",
              "      <td>0</td>\n",
              "      <td>9.10</td>\n",
              "      <td>3.54</td>\n",
              "      <td>1.39</td>\n",
              "      <td>0.482</td>\n",
              "      <td>F5</td>\n",
              "    </tr>\n",
              "    <tr>\n",
              "      <th>1</th>\n",
              "      <td>1</td>\n",
              "      <td>9.27</td>\n",
              "      <td>21.90</td>\n",
              "      <td>3.10</td>\n",
              "      <td>0.999</td>\n",
              "      <td>K3V</td>\n",
              "    </tr>\n",
              "    <tr>\n",
              "      <th>2</th>\n",
              "      <td>2</td>\n",
              "      <td>6.61</td>\n",
              "      <td>2.81</td>\n",
              "      <td>0.63</td>\n",
              "      <td>-0.019</td>\n",
              "      <td>B9</td>\n",
              "    </tr>\n",
              "    <tr>\n",
              "      <th>3</th>\n",
              "      <td>3</td>\n",
              "      <td>8.06</td>\n",
              "      <td>7.75</td>\n",
              "      <td>0.97</td>\n",
              "      <td>0.370</td>\n",
              "      <td>F0V</td>\n",
              "    </tr>\n",
              "    <tr>\n",
              "      <th>4</th>\n",
              "      <td>4</td>\n",
              "      <td>8.55</td>\n",
              "      <td>2.87</td>\n",
              "      <td>1.11</td>\n",
              "      <td>0.902</td>\n",
              "      <td>G8III</td>\n",
              "    </tr>\n",
              "  </tbody>\n",
              "</table>\n",
              "</div>"
            ],
            "text/plain": [
              "   Unnamed: 0   Vmag      Plx   e_Plx     B-V SpType\n",
              "0           0   9.10     3.54    1.39   0.482     F5\n",
              "1           1   9.27    21.90    3.10   0.999    K3V\n",
              "2           2   6.61     2.81    0.63  -0.019     B9\n",
              "3           3   8.06     7.75    0.97   0.370    F0V\n",
              "4           4   8.55     2.87    1.11   0.902  G8III"
            ]
          },
          "execution_count": 4,
          "metadata": {},
          "output_type": "execute_result"
        }
      ],
      "source": [
        "df.head(5)"
      ]
    },
    {
      "cell_type": "markdown",
      "metadata": {
        "id": "1Nz1cx4DF2Zh"
      },
      "source": [
        "***Significado de las columnas:***\n",
        "\n",
        "*   **Vmag: magnitud aparente en el filtro V**\n",
        "*   **Plx: paralaje (en miliarcsec)**\n",
        "*   **e_Plx: error en el valor de paralaje (en miliarcsec)**\n",
        "*   **B-V: diferencia entre la magnitud aparente en el filtro B y la magnitud aparente en el filtro V (índice de color)**\n",
        "*   **SpType: tipo espectral**"
      ]
    },
    {
      "cell_type": "markdown",
      "metadata": {
        "id": "AeNbauqDIk0b"
      },
      "source": [
        "\n",
        "\n",
        "```\n",
        "# ¿Qué es la magnitud aparente?\n",
        "# ¿Qué es el filtro V? ¿Qué es el filtro B? \n",
        "# ¿Qué es el índice de color? ¿Qué significa que tenga un valor bajo/alto?\n",
        "# ¿Qué es el tipo espectral? ¿Cuáles son los principales tipos espectrales? ¿Cómo se asocian con el color?\n",
        "# ¿Qué es la paralaje? ¿Cuál es la diferencia entre segundos de arco y mili segundos de arco?\n",
        "```\n",
        "\n"
      ]
    },
    {
      "cell_type": "markdown",
      "metadata": {
        "id": "gqe1KdLGAx4l"
      },
      "source": [
        "Eliminar la columna 'Unnamed: 0'."
      ]
    },
    {
      "cell_type": "code",
      "execution_count": 5,
      "metadata": {
        "id": "iQOMP8YxAxaz"
      },
      "outputs": [],
      "source": [
        "df = df.drop(columns = ['Unnamed: 0'])"
      ]
    },
    {
      "cell_type": "markdown",
      "metadata": {
        "id": "XjGV3T92_mr3"
      },
      "source": [
        "Ver los distintos tipos espectrales (y la cantidad de estrellas de cada uno)."
      ]
    },
    {
      "cell_type": "code",
      "execution_count": 6,
      "metadata": {
        "colab": {
          "base_uri": "https://localhost:8080/"
        },
        "id": "891Q4FFIsI3D",
        "outputId": "a875a684-4289-4e9c-c23d-570e057b1f7a"
      },
      "outputs": [
        {
          "data": {
            "text/plain": [
              "SpType\n",
              "K0             7355\n",
              "G5             5370\n",
              "F8             3839\n",
              "A0             3817\n",
              "G0             3762\n",
              "               ... \n",
              "K3IV-V            1\n",
              "A5Vms...          1\n",
              "A4Ia              1\n",
              "B8IV (p Si)       1\n",
              "M2-M7E(S)         1\n",
              "Name: count, Length: 3756, dtype: int64"
            ]
          },
          "execution_count": 6,
          "metadata": {},
          "output_type": "execute_result"
        }
      ],
      "source": [
        "df['SpType'].value_counts()"
      ]
    },
    {
      "cell_type": "markdown",
      "metadata": {
        "id": "XkJwKT4O_vQD"
      },
      "source": [
        "*Hay 3756 tipos espectrales distintos en los datos. Para simplificar (y poder hacer grupos) se corta el tipo espectral y se deja únicamente la primera letra.*"
      ]
    },
    {
      "cell_type": "code",
      "execution_count": 7,
      "metadata": {
        "id": "jP4hTprOs2Om"
      },
      "outputs": [],
      "source": [
        "def cortar_tipo_espectral(nombre):\n",
        "  nombre = str(nombre)\n",
        "  letra = nombre[0]\n",
        "  return letra"
      ]
    },
    {
      "cell_type": "code",
      "execution_count": 8,
      "metadata": {
        "id": "Ci3IUBH_tOOi"
      },
      "outputs": [],
      "source": [
        "df['SpType short'] = df['SpType'].apply(cortar_tipo_espectral)"
      ]
    },
    {
      "cell_type": "code",
      "execution_count": 9,
      "metadata": {},
      "outputs": [
        {
          "data": {
            "text/html": [
              "<div>\n",
              "<style scoped>\n",
              "    .dataframe tbody tr th:only-of-type {\n",
              "        vertical-align: middle;\n",
              "    }\n",
              "\n",
              "    .dataframe tbody tr th {\n",
              "        vertical-align: top;\n",
              "    }\n",
              "\n",
              "    .dataframe thead th {\n",
              "        text-align: right;\n",
              "    }\n",
              "</style>\n",
              "<table border=\"1\" class=\"dataframe\">\n",
              "  <thead>\n",
              "    <tr style=\"text-align: right;\">\n",
              "      <th></th>\n",
              "      <th>Vmag</th>\n",
              "      <th>Plx</th>\n",
              "      <th>e_Plx</th>\n",
              "      <th>B-V</th>\n",
              "      <th>SpType</th>\n",
              "      <th>SpType short</th>\n",
              "    </tr>\n",
              "  </thead>\n",
              "  <tbody>\n",
              "    <tr>\n",
              "      <th>0</th>\n",
              "      <td>9.10</td>\n",
              "      <td>3.54</td>\n",
              "      <td>1.39</td>\n",
              "      <td>0.482</td>\n",
              "      <td>F5</td>\n",
              "      <td>F</td>\n",
              "    </tr>\n",
              "    <tr>\n",
              "      <th>1</th>\n",
              "      <td>9.27</td>\n",
              "      <td>21.90</td>\n",
              "      <td>3.10</td>\n",
              "      <td>0.999</td>\n",
              "      <td>K3V</td>\n",
              "      <td>K</td>\n",
              "    </tr>\n",
              "    <tr>\n",
              "      <th>2</th>\n",
              "      <td>6.61</td>\n",
              "      <td>2.81</td>\n",
              "      <td>0.63</td>\n",
              "      <td>-0.019</td>\n",
              "      <td>B9</td>\n",
              "      <td>B</td>\n",
              "    </tr>\n",
              "    <tr>\n",
              "      <th>3</th>\n",
              "      <td>8.06</td>\n",
              "      <td>7.75</td>\n",
              "      <td>0.97</td>\n",
              "      <td>0.370</td>\n",
              "      <td>F0V</td>\n",
              "      <td>F</td>\n",
              "    </tr>\n",
              "    <tr>\n",
              "      <th>4</th>\n",
              "      <td>8.55</td>\n",
              "      <td>2.87</td>\n",
              "      <td>1.11</td>\n",
              "      <td>0.902</td>\n",
              "      <td>G8III</td>\n",
              "      <td>G</td>\n",
              "    </tr>\n",
              "  </tbody>\n",
              "</table>\n",
              "</div>"
            ],
            "text/plain": [
              "    Vmag      Plx   e_Plx     B-V SpType SpType short\n",
              "0   9.10     3.54    1.39   0.482     F5            F\n",
              "1   9.27    21.90    3.10   0.999    K3V            K\n",
              "2   6.61     2.81    0.63  -0.019     B9            B\n",
              "3   8.06     7.75    0.97   0.370    F0V            F\n",
              "4   8.55     2.87    1.11   0.902  G8III            G"
            ]
          },
          "execution_count": 9,
          "metadata": {},
          "output_type": "execute_result"
        }
      ],
      "source": [
        "df.head()"
      ]
    },
    {
      "cell_type": "code",
      "execution_count": 10,
      "metadata": {
        "colab": {
          "base_uri": "https://localhost:8080/"
        },
        "id": "zHzc9NJjtscK",
        "outputId": "8cdf831a-77c6-4205-87f4-21a7e8ff6ccf"
      },
      "outputs": [
        {
          "data": {
            "text/plain": [
              "SpType short\n",
              "K    26750\n",
              "F    21799\n",
              "G    19668\n",
              "A    15403\n",
              "B     9100\n",
              "M     3992\n",
              "n     2622\n",
              "O      226\n",
              "C      143\n",
              "R       79\n",
              "W       64\n",
              "s       59\n",
              "N       50\n",
              "D       22\n",
              "S       19\n",
              "p        1\n",
              "k        1\n",
              "(        1\n",
              "Name: count, dtype: int64"
            ]
          },
          "execution_count": 10,
          "metadata": {},
          "output_type": "execute_result"
        }
      ],
      "source": [
        "df['SpType short'].value_counts()"
      ]
    },
    {
      "cell_type": "markdown",
      "metadata": {
        "id": "5vObTDbkAdlr"
      },
      "source": [
        "*Todavía hay tipos espectrales poco comunes, por lo cual se filtra para dejar únicamente los siete tipos básicos.*"
      ]
    },
    {
      "cell_type": "code",
      "execution_count": 11,
      "metadata": {
        "id": "EidGXr05uZaa"
      },
      "outputs": [],
      "source": [
        "df = df[df['SpType short'].isin(['O', 'B', 'A', 'F', 'G', 'K', 'M'])].reset_index(drop=True)"
      ]
    },
    {
      "cell_type": "code",
      "execution_count": 12,
      "metadata": {},
      "outputs": [
        {
          "data": {
            "text/plain": [
              "SpType short\n",
              "K    26750\n",
              "F    21799\n",
              "G    19668\n",
              "A    15403\n",
              "B     9100\n",
              "M     3992\n",
              "O      226\n",
              "Name: count, dtype: int64"
            ]
          },
          "execution_count": 12,
          "metadata": {},
          "output_type": "execute_result"
        }
      ],
      "source": [
        "df[\"SpType short\"].value_counts()"
      ]
    },
    {
      "cell_type": "markdown",
      "metadata": {
        "id": "7jMuI9QyAsL6"
      },
      "source": [
        "Transformar paralaje de miliarcsec a arcsec. Filtrar para dejar únicamente los valores de paralaje (y error en paralaje) mayores que 0."
      ]
    },
    {
      "cell_type": "code",
      "execution_count": 13,
      "metadata": {
        "id": "nqRTs14OwUiZ"
      },
      "outputs": [],
      "source": [
        "def convertir_plx(plx):\n",
        "  try:\n",
        "    plx = float(plx)\n",
        "    plx = plx/1000\n",
        "    return plx\n",
        "  except:\n",
        "    return -1"
      ]
    },
    {
      "cell_type": "code",
      "execution_count": 14,
      "metadata": {
        "id": "MgdYK7aHwHAB"
      },
      "outputs": [],
      "source": [
        "df['Plx arcsec'] = df['Plx'].apply(convertir_plx)"
      ]
    },
    {
      "cell_type": "code",
      "execution_count": 15,
      "metadata": {
        "id": "Y09tclF9vgWP"
      },
      "outputs": [],
      "source": [
        "df = df[df['Plx arcsec']>0].reset_index(drop=True)"
      ]
    },
    {
      "cell_type": "code",
      "execution_count": 16,
      "metadata": {
        "id": "qRYYNlsev_TW"
      },
      "outputs": [],
      "source": [
        "df['e_Plx arcsec'] = df['e_Plx'].apply(convertir_plx)"
      ]
    },
    {
      "cell_type": "code",
      "execution_count": 17,
      "metadata": {
        "id": "Edmyr5yPwuYe"
      },
      "outputs": [],
      "source": [
        "df = df[df['e_Plx arcsec']>0].reset_index(drop=True)"
      ]
    },
    {
      "cell_type": "markdown",
      "metadata": {
        "id": "WUJnVPTIBiul"
      },
      "source": [
        "Filtrar para dejar únicamente las estrellas con error en su paralaje menor al 10% (del valor de paralaje)."
      ]
    },
    {
      "cell_type": "code",
      "execution_count": 18,
      "metadata": {
        "id": "qBuHfkDmxNDi"
      },
      "outputs": [],
      "source": [
        "df = df[df['e_Plx arcsec'] < 0.1*df['Plx arcsec']].reset_index(drop=True)"
      ]
    },
    {
      "cell_type": "markdown",
      "metadata": {
        "id": "AkoJDJAvBrKk"
      },
      "source": [
        "Calcular la distancia en pc."
      ]
    },
    {
      "cell_type": "markdown",
      "metadata": {
        "id": "_wErvWilKlfP"
      },
      "source": [
        "\n",
        "\n",
        "```\n",
        "# ¿Cómo se calcula la distancia a partir del valor de paralaje?\n",
        "```\n",
        "\n"
      ]
    },
    {
      "cell_type": "code",
      "execution_count": 19,
      "metadata": {
        "id": "4TYiO7tSxbPS"
      },
      "outputs": [],
      "source": [
        "df['d_pc'] = 1/df['Plx arcsec']"
      ]
    },
    {
      "cell_type": "code",
      "execution_count": 20,
      "metadata": {
        "colab": {
          "base_uri": "https://localhost:8080/",
          "height": 206
        },
        "id": "AUPT-UuDxn-D",
        "outputId": "2cd41afd-9151-4164-a609-e228c421f6a7"
      },
      "outputs": [
        {
          "data": {
            "text/html": [
              "<div>\n",
              "<style scoped>\n",
              "    .dataframe tbody tr th:only-of-type {\n",
              "        vertical-align: middle;\n",
              "    }\n",
              "\n",
              "    .dataframe tbody tr th {\n",
              "        vertical-align: top;\n",
              "    }\n",
              "\n",
              "    .dataframe thead th {\n",
              "        text-align: right;\n",
              "    }\n",
              "</style>\n",
              "<table border=\"1\" class=\"dataframe\">\n",
              "  <thead>\n",
              "    <tr style=\"text-align: right;\">\n",
              "      <th></th>\n",
              "      <th>Vmag</th>\n",
              "      <th>Plx</th>\n",
              "      <th>e_Plx</th>\n",
              "      <th>B-V</th>\n",
              "      <th>SpType</th>\n",
              "      <th>SpType short</th>\n",
              "      <th>Plx arcsec</th>\n",
              "      <th>e_Plx arcsec</th>\n",
              "      <th>d_pc</th>\n",
              "    </tr>\n",
              "  </thead>\n",
              "  <tbody>\n",
              "    <tr>\n",
              "      <th>2838</th>\n",
              "      <td>8.05</td>\n",
              "      <td>8.90</td>\n",
              "      <td>0.68</td>\n",
              "      <td>0.894</td>\n",
              "      <td>K0IV</td>\n",
              "      <td>K</td>\n",
              "      <td>0.00890</td>\n",
              "      <td>0.00068</td>\n",
              "      <td>112.359551</td>\n",
              "    </tr>\n",
              "    <tr>\n",
              "      <th>7327</th>\n",
              "      <td>7.56</td>\n",
              "      <td>17.64</td>\n",
              "      <td>0.92</td>\n",
              "      <td>0.598</td>\n",
              "      <td>G0</td>\n",
              "      <td>G</td>\n",
              "      <td>0.01764</td>\n",
              "      <td>0.00092</td>\n",
              "      <td>56.689342</td>\n",
              "    </tr>\n",
              "    <tr>\n",
              "      <th>2738</th>\n",
              "      <td>8.30</td>\n",
              "      <td>7.50</td>\n",
              "      <td>0.63</td>\n",
              "      <td>0.418</td>\n",
              "      <td>F2V</td>\n",
              "      <td>F</td>\n",
              "      <td>0.00750</td>\n",
              "      <td>0.00063</td>\n",
              "      <td>133.333333</td>\n",
              "    </tr>\n",
              "    <tr>\n",
              "      <th>6582</th>\n",
              "      <td>9.15</td>\n",
              "      <td>10.48</td>\n",
              "      <td>0.95</td>\n",
              "      <td>0.625</td>\n",
              "      <td>G5V</td>\n",
              "      <td>G</td>\n",
              "      <td>0.01048</td>\n",
              "      <td>0.00095</td>\n",
              "      <td>95.419847</td>\n",
              "    </tr>\n",
              "    <tr>\n",
              "      <th>7260</th>\n",
              "      <td>6.53</td>\n",
              "      <td>36.40</td>\n",
              "      <td>0.57</td>\n",
              "      <td>0.598</td>\n",
              "      <td>G1V</td>\n",
              "      <td>G</td>\n",
              "      <td>0.03640</td>\n",
              "      <td>0.00057</td>\n",
              "      <td>27.472527</td>\n",
              "    </tr>\n",
              "  </tbody>\n",
              "</table>\n",
              "</div>"
            ],
            "text/plain": [
              "       Vmag      Plx   e_Plx     B-V SpType SpType short  Plx arcsec  \\\n",
              "2838   8.05     8.90    0.68   0.894   K0IV            K     0.00890   \n",
              "7327   7.56    17.64    0.92   0.598     G0            G     0.01764   \n",
              "2738   8.30     7.50    0.63   0.418    F2V            F     0.00750   \n",
              "6582   9.15    10.48    0.95   0.625    G5V            G     0.01048   \n",
              "7260   6.53    36.40    0.57   0.598    G1V            G     0.03640   \n",
              "\n",
              "      e_Plx arcsec        d_pc  \n",
              "2838       0.00068  112.359551  \n",
              "7327       0.00092   56.689342  \n",
              "2738       0.00063  133.333333  \n",
              "6582       0.00095   95.419847  \n",
              "7260       0.00057   27.472527  "
            ]
          },
          "execution_count": 20,
          "metadata": {},
          "output_type": "execute_result"
        }
      ],
      "source": [
        "df.sample(5)"
      ]
    },
    {
      "cell_type": "markdown",
      "metadata": {
        "id": "CW7MTHMsB9ge"
      },
      "source": [
        "Convertir la magnitud aparente y el índice de color a float."
      ]
    },
    {
      "cell_type": "code",
      "execution_count": 22,
      "metadata": {
        "id": "4nH7BOVk6TwR"
      },
      "outputs": [],
      "source": [
        "df = df[pd.to_numeric(df['Vmag'], errors='coerce').notnull()].reset_index(drop=True)"
      ]
    },
    {
      "cell_type": "code",
      "execution_count": 23,
      "metadata": {
        "id": "QAn1dbPFCH0a"
      },
      "outputs": [],
      "source": [
        "df = df[pd.to_numeric(df['B-V'], errors='coerce').notnull()].reset_index(drop=True)"
      ]
    },
    {
      "cell_type": "code",
      "execution_count": 24,
      "metadata": {
        "id": "oAdqE5-T6fEM"
      },
      "outputs": [],
      "source": [
        "df['Vmag'] = df['Vmag'].astype('float')"
      ]
    },
    {
      "cell_type": "code",
      "execution_count": 25,
      "metadata": {
        "id": "w9ZSRK6_CMBA"
      },
      "outputs": [],
      "source": [
        "df['B-V'] = df['B-V'].astype('float')"
      ]
    },
    {
      "cell_type": "markdown",
      "metadata": {
        "id": "x0ty_SKKCNBV"
      },
      "source": [
        "Calcular la magnitud absoluta."
      ]
    },
    {
      "cell_type": "markdown",
      "metadata": {
        "id": "XqyNW_JMLfQm"
      },
      "source": [
        "\n",
        "\n",
        "```\n",
        "# ¿Qué es la magnitud absoluta? ¿Cómo se calcula?\n",
        "```\n",
        "\n"
      ]
    },
    {
      "cell_type": "code",
      "execution_count": 26,
      "metadata": {
        "id": "FaFOAHCR1yg9"
      },
      "outputs": [],
      "source": [
        "df['V_abs'] = df['Vmag']+5-(5*np.log10(df['d_pc']))"
      ]
    },
    {
      "cell_type": "code",
      "execution_count": 27,
      "metadata": {
        "colab": {
          "base_uri": "https://localhost:8080/",
          "height": 206
        },
        "id": "OLW-vTfEzViT",
        "outputId": "cde06b68-430d-4958-d8fc-f822e386efba"
      },
      "outputs": [
        {
          "data": {
            "text/html": [
              "<div>\n",
              "<style scoped>\n",
              "    .dataframe tbody tr th:only-of-type {\n",
              "        vertical-align: middle;\n",
              "    }\n",
              "\n",
              "    .dataframe tbody tr th {\n",
              "        vertical-align: top;\n",
              "    }\n",
              "\n",
              "    .dataframe thead th {\n",
              "        text-align: right;\n",
              "    }\n",
              "</style>\n",
              "<table border=\"1\" class=\"dataframe\">\n",
              "  <thead>\n",
              "    <tr style=\"text-align: right;\">\n",
              "      <th></th>\n",
              "      <th>Vmag</th>\n",
              "      <th>Plx</th>\n",
              "      <th>e_Plx</th>\n",
              "      <th>B-V</th>\n",
              "      <th>SpType</th>\n",
              "      <th>SpType short</th>\n",
              "      <th>Plx arcsec</th>\n",
              "      <th>e_Plx arcsec</th>\n",
              "      <th>d_pc</th>\n",
              "      <th>V_abs</th>\n",
              "    </tr>\n",
              "  </thead>\n",
              "  <tbody>\n",
              "    <tr>\n",
              "      <th>15804</th>\n",
              "      <td>3.85</td>\n",
              "      <td>25.40</td>\n",
              "      <td>0.65</td>\n",
              "      <td>1.168</td>\n",
              "      <td>K2III</td>\n",
              "      <td>K</td>\n",
              "      <td>0.02540</td>\n",
              "      <td>0.00065</td>\n",
              "      <td>39.370079</td>\n",
              "      <td>0.874169</td>\n",
              "    </tr>\n",
              "    <tr>\n",
              "      <th>703</th>\n",
              "      <td>9.77</td>\n",
              "      <td>26.54</td>\n",
              "      <td>1.51</td>\n",
              "      <td>1.069</td>\n",
              "      <td>K2/K3V</td>\n",
              "      <td>K</td>\n",
              "      <td>0.02654</td>\n",
              "      <td>0.00151</td>\n",
              "      <td>37.678975</td>\n",
              "      <td>6.889505</td>\n",
              "    </tr>\n",
              "    <tr>\n",
              "      <th>3872</th>\n",
              "      <td>7.24</td>\n",
              "      <td>16.23</td>\n",
              "      <td>0.97</td>\n",
              "      <td>0.714</td>\n",
              "      <td>G5</td>\n",
              "      <td>G</td>\n",
              "      <td>0.01623</td>\n",
              "      <td>0.00097</td>\n",
              "      <td>61.614295</td>\n",
              "      <td>3.291593</td>\n",
              "    </tr>\n",
              "    <tr>\n",
              "      <th>454</th>\n",
              "      <td>7.27</td>\n",
              "      <td>13.56</td>\n",
              "      <td>0.92</td>\n",
              "      <td>0.609</td>\n",
              "      <td>G1V</td>\n",
              "      <td>G</td>\n",
              "      <td>0.01356</td>\n",
              "      <td>0.00092</td>\n",
              "      <td>73.746313</td>\n",
              "      <td>2.931298</td>\n",
              "    </tr>\n",
              "    <tr>\n",
              "      <th>5238</th>\n",
              "      <td>7.92</td>\n",
              "      <td>9.24</td>\n",
              "      <td>0.89</td>\n",
              "      <td>0.543</td>\n",
              "      <td>F7V</td>\n",
              "      <td>F</td>\n",
              "      <td>0.00924</td>\n",
              "      <td>0.00089</td>\n",
              "      <td>108.225108</td>\n",
              "      <td>2.748360</td>\n",
              "    </tr>\n",
              "  </tbody>\n",
              "</table>\n",
              "</div>"
            ],
            "text/plain": [
              "       Vmag      Plx   e_Plx    B-V  SpType SpType short  Plx arcsec  \\\n",
              "15804  3.85    25.40    0.65  1.168   K2III            K     0.02540   \n",
              "703    9.77    26.54    1.51  1.069  K2/K3V            K     0.02654   \n",
              "3872   7.24    16.23    0.97  0.714      G5            G     0.01623   \n",
              "454    7.27    13.56    0.92  0.609     G1V            G     0.01356   \n",
              "5238   7.92     9.24    0.89  0.543     F7V            F     0.00924   \n",
              "\n",
              "       e_Plx arcsec        d_pc     V_abs  \n",
              "15804       0.00065   39.370079  0.874169  \n",
              "703         0.00151   37.678975  6.889505  \n",
              "3872        0.00097   61.614295  3.291593  \n",
              "454         0.00092   73.746313  2.931298  \n",
              "5238        0.00089  108.225108  2.748360  "
            ]
          },
          "execution_count": 27,
          "metadata": {},
          "output_type": "execute_result"
        }
      ],
      "source": [
        "df.sample(5)"
      ]
    },
    {
      "cell_type": "markdown",
      "metadata": {
        "id": "H7Wg6m5fCRca"
      },
      "source": [
        "#### Graficar el diagrama HR"
      ]
    },
    {
      "cell_type": "markdown",
      "metadata": {
        "id": "sOok4lZoL_QY"
      },
      "source": [
        "\n",
        "\n",
        "```\n",
        "# ¿Qué se representa en el diagrama HR?\n",
        "```\n",
        "\n"
      ]
    },
    {
      "cell_type": "code",
      "execution_count": 28,
      "metadata": {
        "colab": {
          "base_uri": "https://localhost:8080/",
          "height": 513
        },
        "id": "V3ZNZj4yz7YU",
        "outputId": "00420468-fffb-42dc-da47-e8e851041a29"
      },
      "outputs": [
        {
          "data": {
            "image/png": "[encoded data removed]",
            "text/plain": [
              "<Figure size 800x800 with 1 Axes>"
            ]
          },
          "metadata": {},
          "output_type": "display_data"
        }
      ],
      "source": [
        "plt.figure(figsize=(8,8))\n",
        "ax = sns.scatterplot(data=df, x='B-V', y='V_abs', hue='SpType short', hue_order=['M', 'K', 'G', 'F', 'A', 'B', 'O'], palette='Spectral', s=5)\n",
        "ax.invert_yaxis()\n",
        "ax.set_facecolor('black')\n",
        "plt.title('Diagrama HR')\n",
        "plt.show()"
      ]
    },
    {
      "cell_type": "markdown",
      "metadata": {
        "id": "7JRJgjgeMIoX"
      },
      "source": [
        "\n",
        "\n",
        "```\n",
        "# 1. ¿Cuáles regiones del diagrama HR pueden identificarse claramente en la imagen? ¿Cuáles no se ven?\n",
        "# 2. ¿Por qué es necesario invertir el eje y?\n",
        "# 3. ¿Cómo se relaciona el tipo espectral (y el índice de color) con la temperatura?\n",
        "# 4. ¿Aproximadamente qué indice de color tiene el Sol? Justificar.\n",
        "```\n",
        "\n"
      ]
    },
    {
      "cell_type": "markdown",
      "metadata": {
        "id": "lv9aAMVWPngX"
      },
      "source": [
        "#### Cantidad de estrellas de cada tipo espectral"
      ]
    },
    {
      "cell_type": "code",
      "execution_count": 33,
      "metadata": {
        "id": "GzLwCmDCOldW"
      },
      "outputs": [],
      "source": [
        "dict_sptype = dict(df['SpType short'].value_counts())\n",
        "sptype_keys = list(dict_sptype.keys())\n",
        "sptype_count = list(dict_sptype.values())"
      ]
    },
    {
      "cell_type": "code",
      "execution_count": 34,
      "metadata": {},
      "outputs": [
        {
          "data": {
            "text/plain": [
              "['F', 'G', 'K', 'A', 'M', 'B', 'O']"
            ]
          },
          "execution_count": 34,
          "metadata": {},
          "output_type": "execute_result"
        }
      ],
      "source": [
        "sptype_keys"
      ]
    },
    {
      "cell_type": "code",
      "execution_count": 30,
      "metadata": {},
      "outputs": [
        {
          "data": {
            "text/plain": [
              "[5650, 5078, 3441, 2224, 609, 407, 2]"
            ]
          },
          "execution_count": 30,
          "metadata": {},
          "output_type": "execute_result"
        }
      ],
      "source": [
        "sptype_count"
      ]
    },
    {
      "cell_type": "code",
      "execution_count": 35,
      "metadata": {},
      "outputs": [
        {
          "data": {
            "text/plain": [
              "{'F': 5650, 'G': 5078, 'K': 3441, 'A': 2224, 'M': 609, 'B': 407, 'O': 2}"
            ]
          },
          "execution_count": 35,
          "metadata": {},
          "output_type": "execute_result"
        }
      ],
      "source": [
        "dict_sptype"
      ]
    },
    {
      "cell_type": "code",
      "execution_count": 36,
      "metadata": {
        "id": "jPUSMLbzOwRX"
      },
      "outputs": [],
      "source": [
        "df_sptype = pd.DataFrame({'SpType':sptype_keys, 'SpType_count':sptype_count})"
      ]
    },
    {
      "cell_type": "code",
      "execution_count": 37,
      "metadata": {},
      "outputs": [
        {
          "data": {
            "text/html": [
              "<div>\n",
              "<style scoped>\n",
              "    .dataframe tbody tr th:only-of-type {\n",
              "        vertical-align: middle;\n",
              "    }\n",
              "\n",
              "    .dataframe tbody tr th {\n",
              "        vertical-align: top;\n",
              "    }\n",
              "\n",
              "    .dataframe thead th {\n",
              "        text-align: right;\n",
              "    }\n",
              "</style>\n",
              "<table border=\"1\" class=\"dataframe\">\n",
              "  <thead>\n",
              "    <tr style=\"text-align: right;\">\n",
              "      <th></th>\n",
              "      <th>SpType</th>\n",
              "      <th>SpType_count</th>\n",
              "    </tr>\n",
              "  </thead>\n",
              "  <tbody>\n",
              "    <tr>\n",
              "      <th>0</th>\n",
              "      <td>F</td>\n",
              "      <td>5650</td>\n",
              "    </tr>\n",
              "    <tr>\n",
              "      <th>1</th>\n",
              "      <td>G</td>\n",
              "      <td>5078</td>\n",
              "    </tr>\n",
              "    <tr>\n",
              "      <th>2</th>\n",
              "      <td>K</td>\n",
              "      <td>3441</td>\n",
              "    </tr>\n",
              "    <tr>\n",
              "      <th>3</th>\n",
              "      <td>A</td>\n",
              "      <td>2224</td>\n",
              "    </tr>\n",
              "    <tr>\n",
              "      <th>4</th>\n",
              "      <td>M</td>\n",
              "      <td>609</td>\n",
              "    </tr>\n",
              "    <tr>\n",
              "      <th>5</th>\n",
              "      <td>B</td>\n",
              "      <td>407</td>\n",
              "    </tr>\n",
              "    <tr>\n",
              "      <th>6</th>\n",
              "      <td>O</td>\n",
              "      <td>2</td>\n",
              "    </tr>\n",
              "  </tbody>\n",
              "</table>\n",
              "</div>"
            ],
            "text/plain": [
              "  SpType  SpType_count\n",
              "0      F          5650\n",
              "1      G          5078\n",
              "2      K          3441\n",
              "3      A          2224\n",
              "4      M           609\n",
              "5      B           407\n",
              "6      O             2"
            ]
          },
          "execution_count": 37,
          "metadata": {},
          "output_type": "execute_result"
        }
      ],
      "source": [
        "df_sptype"
      ]
    },
    {
      "cell_type": "code",
      "execution_count": 38,
      "metadata": {
        "colab": {
          "base_uri": "https://localhost:8080/",
          "height": 295
        },
        "id": "81RTpzwpNzdl",
        "outputId": "c9489b7e-f614-4bc9-89d7-88a102e5f2ab"
      },
      "outputs": [
        {
          "data": {
            "image/png": "[encoded data removed]",
            "text/plain": [
              "<Figure size 800x400 with 1 Axes>"
            ]
          },
          "metadata": {},
          "output_type": "display_data"
        }
      ],
      "source": [
        "plt.figure(figsize=(8, 4))\n",
        "sns.barplot(data=df_sptype, x='SpType', y='SpType_count', hue='SpType', hue_order=['M', 'K', 'G', 'F', 'A', 'B', 'O'], palette='Spectral', dodge=False)\n",
        "plt.title('Cantidad de estrellas de cada tipo espectral')\n",
        "plt.show()"
      ]
    },
    {
      "cell_type": "markdown",
      "metadata": {
        "id": "hSpCwg-EPVqp"
      },
      "source": [
        "\n",
        "\n",
        "```\n",
        "# ¿Por qué hay pocas estrellas O y B?\n",
        "# ¿Por qué hay pocas estrellas M?\n",
        "```\n",
        "\n"
      ]
    },
    {
      "cell_type": "markdown",
      "metadata": {
        "id": "UTdLFXYbN4og"
      },
      "source": [
        "### **Predicción del tipo espectral**"
      ]
    },
    {
      "cell_type": "markdown",
      "metadata": {
        "id": "WArApmfhA7Fa"
      },
      "source": [
        "#### Construcción del modelo"
      ]
    },
    {
      "cell_type": "code",
      "execution_count": 39,
      "metadata": {},
      "outputs": [],
      "source": [
        "%%capture\n",
        "pip install sklearn"
      ]
    },
    {
      "cell_type": "code",
      "execution_count": 40,
      "metadata": {
        "id": "MJgXcg58v_pB"
      },
      "outputs": [
        {
          "ename": "ModuleNotFoundError",
          "evalue": "No module named 'sklearn'",
          "output_type": "error",
          "traceback": [
            "\u001b[0;31m---------------------------------------------------------------------------\u001b[0m",
            "\u001b[0;31mModuleNotFoundError\u001b[0m                       Traceback (most recent call last)",
            "Cell \u001b[0;32mIn[40], line 1\u001b[0m\n\u001b[0;32m----> 1\u001b[0m \u001b[39mfrom\u001b[39;00m \u001b[39msklearn\u001b[39;00m\u001b[39m.\u001b[39;00m\u001b[39mmodel_selection\u001b[39;00m \u001b[39mimport\u001b[39;00m train_test_split\n\u001b[1;32m      2\u001b[0m \u001b[39mfrom\u001b[39;00m \u001b[39msklearn\u001b[39;00m\u001b[39m.\u001b[39;00m\u001b[39mpreprocessing\u001b[39;00m \u001b[39mimport\u001b[39;00m StandardScaler\n\u001b[1;32m      3\u001b[0m \u001b[39mfrom\u001b[39;00m \u001b[39msklearn\u001b[39;00m\u001b[39m.\u001b[39;00m\u001b[39mneighbors\u001b[39;00m \u001b[39mimport\u001b[39;00m KNeighborsClassifier\n",
            "\u001b[0;31mModuleNotFoundError\u001b[0m: No module named 'sklearn'"
          ]
        }
      ],
      "source": [
        "from sklearn.model_selection import train_test_split\n",
        "from sklearn.preprocessing import StandardScaler\n",
        "from sklearn.neighbors import KNeighborsClassifier\n",
        "from sklearn.metrics import confusion_matrix, ConfusionMatrixDisplay"
      ]
    },
    {
      "cell_type": "code",
      "execution_count": null,
      "metadata": {
        "id": "lYDDTNThwLCB"
      },
      "outputs": [],
      "source": [
        "X = df[['B-V', 'V_abs']]\n",
        "y = df['SpType']"
      ]
    },
    {
      "cell_type": "code",
      "execution_count": null,
      "metadata": {
        "id": "E0LmhK89weUt"
      },
      "outputs": [],
      "source": [
        "X_train, X_test, y_train, y_test = train_test_split(X, y, test_size=0.2, random_state=20)"
      ]
    },
    {
      "cell_type": "code",
      "execution_count": null,
      "metadata": {
        "id": "hcgf-LHFvR8h"
      },
      "outputs": [],
      "source": [
        "X_test_copy = X_test.copy()"
      ]
    },
    {
      "cell_type": "code",
      "execution_count": null,
      "metadata": {
        "id": "wRDCTOfOwvVE"
      },
      "outputs": [],
      "source": [
        "scaler = StandardScaler()\n",
        "scaler.fit(X_train)\n",
        "\n",
        "X_train = scaler.transform(X_train)\n",
        "X_test = scaler.transform(X_test)"
      ]
    },
    {
      "cell_type": "code",
      "execution_count": null,
      "metadata": {
        "id": "DCOR9z0T4Une"
      },
      "outputs": [],
      "source": [
        "error = []\n",
        "\n",
        "for i in range(1, 20):\n",
        "    knn = KNeighborsClassifier(n_neighbors=i*5)\n",
        "    knn.fit(X_train, y_train)\n",
        "    pred_i = knn.predict(X_test)\n",
        "    error.append(np.mean(pred_i != y_test))"
      ]
    },
    {
      "cell_type": "code",
      "execution_count": null,
      "metadata": {
        "colab": {
          "base_uri": "https://localhost:8080/",
          "height": 295
        },
        "id": "Q_gAioes4uck",
        "outputId": "ab13278a-23fe-4672-8998-dd8e982ccf45"
      },
      "outputs": [],
      "source": [
        "plt.figure(figsize=(8, 4))\n",
        "plt.plot(range(1, 20), error, color='red', linestyle='dashed', marker='o', markerfacecolor='blue', markersize=5)\n",
        "plt.title('Error medio según valor de K')\n",
        "plt.xlabel('Valor de K')\n",
        "plt.ylabel('Error medio')\n",
        "plt.show()"
      ]
    },
    {
      "cell_type": "code",
      "execution_count": null,
      "metadata": {
        "colab": {
          "base_uri": "https://localhost:8080/"
        },
        "id": "vZaEnc-lwzr8",
        "outputId": "aa703661-c861-4e2a-a134-9852a85d7d19"
      },
      "outputs": [],
      "source": [
        "classifier = KNeighborsClassifier(n_neighbors=45)\n",
        "classifier.fit(X_train, y_train)"
      ]
    },
    {
      "cell_type": "markdown",
      "metadata": {
        "id": "DG3Wc8AYBNdn"
      },
      "source": [
        "#### Evaluación del modelo"
      ]
    },
    {
      "cell_type": "code",
      "execution_count": null,
      "metadata": {
        "id": "vMh6xJuoxOLA"
      },
      "outputs": [],
      "source": [
        "y_pred = classifier.predict(X_test)"
      ]
    },
    {
      "cell_type": "code",
      "execution_count": null,
      "metadata": {
        "colab": {
          "base_uri": "https://localhost:8080/",
          "height": 279
        },
        "id": "w5NhGEXAxZqZ",
        "outputId": "2f900b4d-3559-4292-b40b-cae6da9497c3"
      },
      "outputs": [],
      "source": [
        "cm = confusion_matrix(y_test, y_pred, labels=classifier.classes_)\n",
        "disp = ConfusionMatrixDisplay(confusion_matrix=cm, display_labels=classifier.classes_)\n",
        "disp.plot()\n",
        "plt.show()"
      ]
    },
    {
      "cell_type": "code",
      "execution_count": null,
      "metadata": {
        "id": "mHJ7cuPqyY_r"
      },
      "outputs": [],
      "source": [
        "df_comparacion = pd.DataFrame({'B-V':X_test_copy['B-V'], 'V_abs':X_test_copy['V_abs'], 'True_SpType':y_test, 'Predicted_SpType':y_pred})"
      ]
    },
    {
      "cell_type": "code",
      "execution_count": null,
      "metadata": {
        "id": "FQmS-fAMykUm"
      },
      "outputs": [],
      "source": [
        "df_errores = df_comparacion[df_comparacion['True_SpType']!=df_comparacion['Predicted_SpType']]"
      ]
    },
    {
      "cell_type": "code",
      "execution_count": null,
      "metadata": {
        "colab": {
          "base_uri": "https://localhost:8080/",
          "height": 206
        },
        "id": "-5lxwow6z1zU",
        "outputId": "875f335c-13e9-4867-86f8-a5734a30b14f"
      },
      "outputs": [],
      "source": [
        "df_errores.sample(5)"
      ]
    },
    {
      "cell_type": "code",
      "execution_count": null,
      "metadata": {
        "id": "jQn_Xa-d5epe"
      },
      "outputs": [],
      "source": [
        "porcentaje_error = (len(df_errores)/len(df_comparacion))*100"
      ]
    },
    {
      "cell_type": "code",
      "execution_count": null,
      "metadata": {
        "colab": {
          "base_uri": "https://localhost:8080/"
        },
        "id": "P59P_tcIyr3a",
        "outputId": "6b412664-855d-4f39-9e2e-4a42959eef12"
      },
      "outputs": [],
      "source": [
        "print(f'El {porcentaje_error: .0f}% de las estrellas fueron mal clasificadas usando este modelo.')"
      ]
    },
    {
      "cell_type": "code",
      "execution_count": null,
      "metadata": {
        "colab": {
          "base_uri": "https://localhost:8080/",
          "height": 513
        },
        "id": "XQwkF3gcv-pf",
        "outputId": "29b1094d-b134-4dec-8156-f7d8888bda70"
      },
      "outputs": [],
      "source": [
        "color = ['k']\n",
        "\n",
        "fig, ax = plt.subplots(figsize=(8,8))\n",
        "sns.scatterplot(data=df, x='B-V', y='V_abs', hue='SpType', hue_order=['M', 'K', 'G', 'F', 'A', 'B', 'O'], palette='Spectral', s=6, ax=ax)\n",
        "sns.scatterplot(data=df_errores, x='B-V', y='V_abs', color='blue', marker='D', s=7, ax=ax)\n",
        "ax.invert_yaxis()\n",
        "ax.set_facecolor('black')\n",
        "plt.title('Ubicación en el diagrama H-R de las estrellas mal clasificadas')\n",
        "plt.show()"
      ]
    },
    {
      "cell_type": "code",
      "execution_count": null,
      "metadata": {
        "id": "0xyhpyKUzMc_"
      },
      "outputs": [],
      "source": [
        "tipos_espectrales = ['O', 'B', 'A', 'F', 'G', 'K', 'M']\n",
        "\n",
        "n_anterior = 0  # Cantidad de veces que se predice un tipo anterior al real\n",
        "n_posterior = 0   # Cantidad de veces que se predice un tipo posterior al real\n",
        "\n",
        "for i in range(len(df_errores)):\n",
        "  sp_type_pred = list(df_errores['Predicted_SpType'])[i]\n",
        "  sp_type_pred_index = tipos_espectrales.index(sp_type_pred)\n",
        "  sp_type_real = list(df_errores['True_SpType'])[i]\n",
        "  sp_type_real_index = tipos_espectrales.index(sp_type_real)\n",
        "  if sp_type_pred_index==0:\n",
        "    if sp_type_real_index==sp_type_pred_index+1:\n",
        "      n_anterior += 1\n",
        "  elif sp_type_pred_index==len(tipos_espectrales)-1:\n",
        "    if sp_type_real_index==sp_type_pred_index-1:\n",
        "      n_posterior += 1\n",
        "  else:\n",
        "    if sp_type_real_index==sp_type_pred_index-1:\n",
        "      n_posterior += 1\n",
        "    elif sp_type_real_index==sp_type_pred_index+1:\n",
        "      n_anterior += 1"
      ]
    },
    {
      "cell_type": "code",
      "execution_count": null,
      "metadata": {
        "colab": {
          "base_uri": "https://localhost:8080/"
        },
        "id": "uRW8ie81-nKD",
        "outputId": "c2db498f-c1a4-4ba5-bada-e7138abef7df"
      },
      "outputs": [],
      "source": [
        "print(f'El {(n_anterior*100)/len(df_errores): .1f}% de las veces se predijo un tipo espectral un lugar \"anterior\" (hacia temperaturas mayores) al real.')\n",
        "print(f'El {(n_posterior*100)/len(df_errores): .1f}% de las veces se predijo un tipo espectral un lugar \"posterior\" (hacia temperaturas menores) al real.')\n",
        "print(f'El {((len(df_errores)-n_anterior-n_posterior)*100)/len(df_errores): .1f}% de las veces se predijo un tipo espectral no adyacente al real.')"
      ]
    }
  ],
  "metadata": {
    "colab": {
      "provenance": []
    },
    "kernelspec": {
      "display_name": "Python 3.8.13 64-bit ('3.8.13')",
      "language": "python",
      "name": "python3"
    },
    "language_info": {
      "codemirror_mode": {
        "name": "ipython",
        "version": 3
      },
      "file_extension": ".py",
      "mimetype": "text/x-python",
      "name": "python",
      "nbconvert_exporter": "python",
      "pygments_lexer": "ipython3",
      "version": "3.11.1"
    },
    "vscode": {
      "interpreter": {
        "hash": "110cc1dee26208153f2972f08a2ad52b6a56238dc66d48e87fb757ef2996db56"
      }
    }
  },
  "nbformat": 4,
  "nbformat_minor": 0
}
